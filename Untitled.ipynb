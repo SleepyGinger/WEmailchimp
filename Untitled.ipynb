{
 "cells": [
  {
   "cell_type": "code",
   "execution_count": 105,
   "metadata": {
    "collapsed": true
   },
   "outputs": [],
   "source": [
    "from mailchimp3 import MailChimp\n",
    "import pandas as pd\n",
    "client = MailChimp('wilburellis@peppercomm.com', '*secretAPI*')"
   ]
  },
  {
   "cell_type": "code",
   "execution_count": 109,
   "metadata": {},
   "outputs": [],
   "source": [
    "campaigns=client.campaigns.all(get_all=True)"
   ]
  },
  {
   "cell_type": "code",
   "execution_count": 111,
   "metadata": {},
   "outputs": [],
   "source": [
    "ldate_created=[]\n",
    "lcampaign_id=[]\n",
    "llist_name=[]\n",
    "lrecipient_count=[]\n",
    "ltitle=[]\n",
    "lsub_line=[]\n",
    "\n",
    "for x in campaigns['campaigns']:\n",
    "    date_created=x['create_time']\n",
    "    campaign_id=x['id']\n",
    "    list_name=x['recipients']['list_name']\n",
    "    recipient_count=x['recipients']['recipient_count']\n",
    "    title=x['settings']['title']\n",
    "    ldate_created.append(date_created)\n",
    "    lcampaign_id.append(campaign_id)\n",
    "    llist_name.append(list_name)\n",
    "    lrecipient_count.append(recipient_count)\n",
    "    ltitle.append(title)\n",
    "    "
   ]
  },
  {
   "cell_type": "code",
   "execution_count": 136,
   "metadata": {},
   "outputs": [],
   "source": [
    "df.to_csv('all_campaigns.csv', encoding='utf-8', index=False)"
   ]
  },
  {
   "cell_type": "code",
   "execution_count": 151,
   "metadata": {},
   "outputs": [
    {
     "data": {
      "text/plain": [
       "{u'_links': [{u'href': u'https://us8.api.mailchimp.com/3.0/reports/00bbe71f97/click-details/7c7acb1f77',\n",
       "   u'method': u'GET',\n",
       "   u'rel': u'parent',\n",
       "   u'targetSchema': u'https://us8.api.mailchimp.com/schema/3.0/Definitions/Reports/ClickDetails/Response.json'},\n",
       "  {u'href': u'https://us8.api.mailchimp.com/3.0/reports/00bbe71f97/click-details/7c7acb1f77/members',\n",
       "   u'method': u'GET',\n",
       "   u'rel': u'self',\n",
       "   u'targetSchema': u'https://us8.api.mailchimp.com/schema/3.0/Definitions/Reports/ClickDetails/Members/CollectionResponse.json'}],\n",
       " u'campaign_id': u'00bbe71f97',\n",
       " u'members': [{u'_links': [{u'href': u'https://us8.api.mailchimp.com/3.0/reports/00bbe71f97/click-details/7c7acb1f77/members',\n",
       "     u'method': u'GET',\n",
       "     u'rel': u'parent',\n",
       "     u'targetSchema': u'https://us8.api.mailchimp.com/schema/3.0/Definitions/Reports/ClickDetails/Members/CollectionResponse.json'},\n",
       "    {u'href': u'https://us8.api.mailchimp.com/3.0/reports/00bbe71f97/click-details/7c7acb1f77/members/6dc67d2360556cb72c01deabb3eef077',\n",
       "     u'method': u'GET',\n",
       "     u'rel': u'self',\n",
       "     u'targetSchema': u'https://us8.api.mailchimp.com/schema/3.0/Definitions/Reports/ClickDetails/Members/Response.json'},\n",
       "    {u'href': u'https://us8.api.mailchimp.com/3.0/lists/47c76dbdc6/members/6dc67d2360556cb72c01deabb3eef077',\n",
       "     u'method': u'GET',\n",
       "     u'rel': u'member',\n",
       "     u'targetSchema': u'https://us8.api.mailchimp.com/schema/3.0/Definitions/Lists/Members/Response.json'}],\n",
       "   u'campaign_id': u'00bbe71f97',\n",
       "   u'clicks': 1,\n",
       "   u'email_address': u'HRYCHLIK@wilburellis.com',\n",
       "   u'email_id': u'6dc67d2360556cb72c01deabb3eef077',\n",
       "   u'list_id': u'47c76dbdc6',\n",
       "   u'merge_fields': {u'FNAME': u'',\n",
       "    u'LNAME': u'',\n",
       "    u'MMERGE3': u'Henry Rychlik'},\n",
       "   u'url_id': u'7c7acb1f77',\n",
       "   u'vip': False}],\n",
       " u'total_items': 1}"
      ]
     },
     "execution_count": 151,
     "metadata": {},
     "output_type": "execute_result"
    }
   ],
   "source": [
    "client.reports.click_details.members.all(campaign_id='00bbe71f97', link_id='7c7acb1f77', get_all=False)"
   ]
  },
  {
   "cell_type": "code",
   "execution_count": 147,
   "metadata": {},
   "outputs": [
    {
     "data": {
      "text/plain": [
       "u'02026bad6e'"
      ]
     },
     "execution_count": 147,
     "metadata": {},
     "output_type": "execute_result"
    }
   ],
   "source": [
    "lcampaign_id[12]"
   ]
  },
  {
   "cell_type": "code",
   "execution_count": null,
   "metadata": {
    "collapsed": true
   },
   "outputs": [],
   "source": []
  }
 ],
 "metadata": {
  "kernelspec": {
   "display_name": "Python 2",
   "language": "python",
   "name": "python2"
  },
  "language_info": {
   "codemirror_mode": {
    "name": "ipython",
    "version": 2
   },
   "file_extension": ".py",
   "mimetype": "text/x-python",
   "name": "python",
   "nbconvert_exporter": "python",
   "pygments_lexer": "ipython2",
   "version": "2.7.13"
  }
 },
 "nbformat": 4,
 "nbformat_minor": 2
}
